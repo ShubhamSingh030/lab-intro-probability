{
 "cells": [
  {
   "cell_type": "markdown",
   "metadata": {},
   "source": [
    "# Lab | Intro to Probability"
   ]
  },
  {
   "cell_type": "markdown",
   "metadata": {},
   "source": [
    "**Objective**\n",
    "\n",
    "Welcome to this Intro to Probability lab, where we explore decision-making scenarios through the lens of probability and strategic analysis. In the business world, making informed decisions is crucial, especially when faced with uncertainties. This lab focuses on scenarios where probabilistic outcomes play a significant role in shaping strategies and outcomes. Students will engage in exercises that require assessing and choosing optimal paths based on data-driven insights. The goal is to enhance your skills by applying probability concepts to solve real-world problems."
   ]
  },
  {
   "cell_type": "markdown",
   "metadata": {},
   "source": [
    "**Challenge 1**"
   ]
  },
  {
   "cell_type": "markdown",
   "metadata": {},
   "source": [
    "#### Ironhack Airlines \n",
    "\n",
    "Often Airlines sell more tickets than they have seats available, this is called overbooking. Consider the following:\n",
    "- A plane has 450 seats. \n",
    "- Based on historical data we conclude that each individual passenger has a 3% chance of missing it's flight. \n",
    "\n",
    "If the Ironhack Airlines routinely sells 460 tickets, what is the chance that they have a seats for all passenger?"
   ]
  },
  {
   "cell_type": "code",
   "execution_count": null,
   "metadata": {},
   "outputs": [],
   "source": [
    "# often Airlines sell more tickets than they have seats available, this is called overbooking. Consider the following:\n",
    "# A plane has 450 seats. \n",
    "# Based on historical data we conclude that each individual passenger has a 3% chance of missing it's flight. \n",
    "\n",
    "# If the Ironhack Airlines routinely sells 460 tickets, what is the chance that they have a seats for all passenger?"
   ]
  },
  {
   "cell_type": "code",
   "execution_count": 1,
   "metadata": {},
   "outputs": [],
   "source": [
    "import scipy.stats as stats"
   ]
  },
  {
   "cell_type": "code",
   "execution_count": 2,
   "metadata": {},
   "outputs": [
    {
     "name": "stdout",
     "output_type": "stream",
     "text": [
      "The probability that 450 or fewer passengers show up is: 0.8845\n"
     ]
    }
   ],
   "source": [
    "# Given parameters\n",
    "n_tickets = 460\n",
    "p_show_up = 0.97\n",
    "seats_available = 450\n",
    "# Calculate the cumulative probability that 450 or fewer passengers show up\n",
    "# P(X <= seats_available) where X ~ Binomial(n_tickets, p_show_up)\n",
    "prob = stats.binom.cdf(seats_available, n_tickets, p_show_up)\n",
    "\n",
    "print(f\"The probability that 450 or fewer passengers show up is: {prob:.4f}\")"
   ]
  },
  {
   "cell_type": "markdown",
   "metadata": {},
   "source": [
    "**Challenge 2**"
   ]
  },
  {
   "cell_type": "markdown",
   "metadata": {},
   "source": [
    "#### Ironhack Call Center "
   ]
  },
  {
   "cell_type": "markdown",
   "metadata": {},
   "source": [
    "Suppose a customer service representative at a call center is handling customer complaints. Consider the following:\n",
    "- The probability of successfully resolving a customer complaint on the first attempt is 0.3. \n",
    "\n",
    "\n",
    "What is the probability that the representative needs to make at least three attempts before successfully resolving a customer complaint?"
   ]
  },
  {
   "cell_type": "code",
   "execution_count": 3,
   "metadata": {},
   "outputs": [
    {
     "name": "stdout",
     "output_type": "stream",
     "text": [
      "The probability that the representative needs at least 3 attempts: 0.4900\n"
     ]
    }
   ],
   "source": [
    "import scipy.stats as stats\n",
    "\n",
    "# Given parameters\n",
    "p_success = 0.3\n",
    "k_attempts = 3\n",
    "\n",
    "# Calculate the probability of success before the k-th attempt\n",
    "p_less_than_k = stats.geom.cdf(k_attempts - 1, p_success)\n",
    "\n",
    "# Probability of needing at least k attempts\n",
    "p_at_least_k = 1 - p_less_than_k\n",
    "\n",
    "print(f\"The probability that the representative needs at least {k_attempts} attempts: {p_at_least_k:.4f}\")"
   ]
  },
  {
   "cell_type": "markdown",
   "metadata": {},
   "source": [
    "**Challenge 3**"
   ]
  },
  {
   "cell_type": "markdown",
   "metadata": {},
   "source": [
    "#### Ironhack Website"
   ]
  },
  {
   "cell_type": "markdown",
   "metadata": {},
   "source": [
    "Consider a scenario related to Ironhack website traffic. Where:\n",
    "- our website takes on average 500 visits per hour.\n",
    "- the website's server is designed to handle up to 550 vists per hour.\n",
    "\n",
    "\n",
    "What is the probability of the website server being overwhelmed?"
   ]
  },
  {
   "cell_type": "code",
   "execution_count": 4,
   "metadata": {},
   "outputs": [
    {
     "name": "stdout",
     "output_type": "stream",
     "text": [
      "The probability of the server being overwhelmed is: 0.0129\n"
     ]
    }
   ],
   "source": [
    "import scipy.stats as stats\n",
    "\n",
    "# Given parameters\n",
    "lambda_visits = 500\n",
    "server_capacity = 550\n",
    "\n",
    "# Calculate the cumulative probability of having 550 or fewer visits\n",
    "cumulative_probability = stats.poisson.cdf(server_capacity, lambda_visits)\n",
    "\n",
    "# Probability of having more than 550 visits (server being overwhelmed)\n",
    "probability_overwhelmed = 1 - cumulative_probability\n",
    "\n",
    "print(f\"The probability of the server being overwhelmed is: {probability_overwhelmed:.4f}\")"
   ]
  },
  {
   "cell_type": "markdown",
   "metadata": {},
   "source": [
    "What is the probability of being overwhelmed at some point during a day? (consider 24hours)"
   ]
  },
  {
   "cell_type": "code",
   "execution_count": 5,
   "metadata": {},
   "outputs": [
    {
     "name": "stdout",
     "output_type": "stream",
     "text": [
      "The probability of the server being overwhelmed at least once in a day is: 0.2677\n"
     ]
    }
   ],
   "source": [
    "import scipy.stats as stats\n",
    "\n",
    "# Given parameters\n",
    "lambda_visits = 500\n",
    "server_capacity = 550\n",
    "hours_in_day = 24\n",
    "\n",
    "# Step 1: Calculate the probability of being overwhelmed in a single hour\n",
    "cumulative_probability = stats.poisson.cdf(server_capacity, lambda_visits)\n",
    "probability_overwhelmed_in_hour = 1 - cumulative_probability\n",
    "\n",
    "# Step 2: Calculate the probability of not being overwhelmed in a single hour\n",
    "probability_not_overwhelmed_in_hour = 1 - probability_overwhelmed_in_hour\n",
    "\n",
    "# Step 3: Calculate the probability of not being overwhelmed during the entire day\n",
    "probability_not_overwhelmed_in_day = probability_not_overwhelmed_in_hour ** hours_in_day\n",
    "\n",
    "# Step 4: Calculate the probability of being overwhelmed at least once during the day\n",
    "probability_overwhelmed_in_day = 1 - probability_not_overwhelmed_in_day\n",
    "\n",
    "print(f\"The probability of the server being overwhelmed at least once in a day is: {probability_overwhelmed_in_day:.4f}\")"
   ]
  },
  {
   "cell_type": "markdown",
   "metadata": {},
   "source": [
    "**Challenge 4**"
   ]
  },
  {
   "cell_type": "markdown",
   "metadata": {},
   "source": [
    "#### Ironhack Helpdesk"
   ]
  },
  {
   "cell_type": "markdown",
   "metadata": {},
   "source": [
    "Consider a scenario related to the time between arrivals of customers at a service desk.\n",
    "\n",
    "On average, a customers arrives every 10minutes.\n",
    "\n",
    "What is the probability that the next customer will arrive within the next 5 minutes?"
   ]
  },
  {
   "cell_type": "code",
   "execution_count": 6,
   "metadata": {},
   "outputs": [
    {
     "name": "stdout",
     "output_type": "stream",
     "text": [
      "The probability that the next customer will arrive within the next 5 minutes is: 0.3935\n"
     ]
    }
   ],
   "source": [
    "import numpy as np\n",
    "\n",
    "# Given parameters\n",
    "average_time_between_arrivals = 10  # minutes\n",
    "time_interval = 5  # minutes\n",
    "\n",
    "# Step 1: Calculate the rate parameter (lambda)\n",
    "lambda_rate = 1 / average_time_between_arrivals\n",
    "\n",
    "# Step 2: Calculate the probability using the CDF of the exponential distribution\n",
    "probability_within_5_minutes = 1 - np.exp(-lambda_rate * time_interval)\n",
    "\n",
    "print(f\"The probability that the next customer will arrive within the next 5 minutes is: {probability_within_5_minutes:.4f}\")"
   ]
  },
  {
   "cell_type": "markdown",
   "metadata": {},
   "source": [
    "If there is no customer for 15minutes, employees can that a 5minutes break.\n",
    "\n",
    "What is the probability an employee taking a break?"
   ]
  },
  {
   "cell_type": "code",
   "execution_count": 7,
   "metadata": {},
   "outputs": [
    {
     "name": "stdout",
     "output_type": "stream",
     "text": [
      "The probability that no customer arrives within 15 minutes (employee taking a break) is: 0.2231\n"
     ]
    }
   ],
   "source": [
    "import numpy as np\n",
    "\n",
    "# Given parameters\n",
    "average_time_between_arrivals = 10  # minutes\n",
    "time_interval = 15  # minutes\n",
    "\n",
    "# Step 1: Calculate the rate parameter (lambda)\n",
    "lambda_rate = 1 / average_time_between_arrivals\n",
    "\n",
    "# Step 2: Calculate the probability using the exponential distribution\n",
    "probability_no_customer = np.exp(-lambda_rate * time_interval)\n",
    "\n",
    "print(f\"The probability that no customer arrives within 15 minutes (employee taking a break) is: {probability_no_customer:.4f}\")"
   ]
  },
  {
   "cell_type": "markdown",
   "metadata": {},
   "source": [
    "**Challenge 5**"
   ]
  },
  {
   "cell_type": "markdown",
   "metadata": {},
   "source": [
    "The weights of a certain species of birds follow a normal distribution with a mean weight of 150 grams and a standard deviation of 10 grams. \n",
    "\n",
    "- If we randomly select a bird, what is the probability that its weight is between 140 and 160 grams?"
   ]
  },
  {
   "cell_type": "code",
   "execution_count": 8,
   "metadata": {},
   "outputs": [
    {
     "name": "stdout",
     "output_type": "stream",
     "text": [
      "The probability that a randomly selected bird weighs between 140 and 160 grams is: 0.6827\n"
     ]
    }
   ],
   "source": [
    "import scipy.stats as stats\n",
    "\n",
    "# Given parameters\n",
    "mean_weight = 150  # grams\n",
    "std_dev_weight = 10  # grams\n",
    "lower_bound = 140  # grams\n",
    "upper_bound = 160  # grams\n",
    "\n",
    "# Calculate Z-scores for the bounds\n",
    "z_lower = (lower_bound - mean_weight) / std_dev_weight\n",
    "z_upper = (upper_bound - mean_weight) / std_dev_weight\n",
    "\n",
    "# Calculate the cumulative probabilities\n",
    "probability_lower = stats.norm.cdf(z_lower)\n",
    "probability_upper = stats.norm.cdf(z_upper)\n",
    "\n",
    "# The probability that the weight is between 140 and 160 grams\n",
    "probability_between = probability_upper - probability_lower\n",
    "\n",
    "print(f\"The probability that a randomly selected bird weighs between 140 and 160 grams is: {probability_between:.4f}\")"
   ]
  },
  {
   "cell_type": "markdown",
   "metadata": {},
   "source": [
    "**Challenge 6**"
   ]
  },
  {
   "cell_type": "markdown",
   "metadata": {},
   "source": [
    "If the lifetime (in hours) of a certain electronic component follows an exponential distribution with a mean lifetime of 50 hours, what is the probability that the component fails within the first 30 hours?"
   ]
  },
  {
   "cell_type": "code",
   "execution_count": 9,
   "metadata": {},
   "outputs": [
    {
     "name": "stdout",
     "output_type": "stream",
     "text": [
      "The probability that the component fails within the first 30 hours is: 0.4512\n"
     ]
    }
   ],
   "source": [
    "import numpy as np\n",
    "\n",
    "# Given parameters\n",
    "mean_lifetime = 50  # hours\n",
    "time_interval = 30  # hours\n",
    "\n",
    "# Calculate the rate parameter (lambda)\n",
    "lambda_rate = 1 / mean_lifetime\n",
    "\n",
    "# Calculate the probability using the CDF of the exponential distribution\n",
    "probability_failure_within_30_hours = 1 - np.exp(-lambda_rate * time_interval)\n",
    "\n",
    "print(f\"The probability that the component fails within the first 30 hours is: {probability_failure_within_30_hours:.4f}\")"
   ]
  }
 ],
 "metadata": {
  "kernelspec": {
   "display_name": "Python 3",
   "language": "python",
   "name": "python3"
  },
  "language_info": {
   "codemirror_mode": {
    "name": "ipython",
    "version": 3
   },
   "file_extension": ".py",
   "mimetype": "text/x-python",
   "name": "python",
   "nbconvert_exporter": "python",
   "pygments_lexer": "ipython3",
   "version": "3.11.9"
  }
 },
 "nbformat": 4,
 "nbformat_minor": 2
}
